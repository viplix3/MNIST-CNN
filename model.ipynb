{
 "cells": [
  {
   "cell_type": "code",
   "execution_count": 1,
   "metadata": {
    "collapsed": false
   },
   "outputs": [
    {
     "name": "stderr",
     "output_type": "stream",
     "text": [
      "/home/vipin/tensorflow/lib/python3.5/site-packages/h5py/__init__.py:36: FutureWarning: Conversion of the second argument of issubdtype from `float` to `np.floating` is deprecated. In future, it will be treated as `np.float64 == np.dtype(float).type`.\n",
      "  from ._conv import register_converters as _register_converters\n"
     ]
    }
   ],
   "source": [
    "%matplotlib inline\n",
    "import tensorflow as tf\n",
    "import matplotlib.pyplot as plt\n",
    "import cv2\n",
    "import numpy as np\n",
    "from random import randrange\n",
    "import pandas as pd\n",
    "from IPython.display import clear_output\n",
    "from termcolor import colored\n",
    "import os"
   ]
  },
  {
   "cell_type": "code",
   "execution_count": 2,
   "metadata": {
    "collapsed": false
   },
   "outputs": [],
   "source": [
    "train_data = pd.read_csv('./train.csv')\n",
    "test_data = pd.read_csv('./test.csv')"
   ]
  },
  {
   "cell_type": "code",
   "execution_count": 3,
   "metadata": {
    "collapsed": false
   },
   "outputs": [
    {
     "name": "stdout",
     "output_type": "stream",
     "text": [
      "<class 'pandas.core.frame.DataFrame'>\n",
      "RangeIndex: 42000 entries, 0 to 41999\n",
      "Columns: 785 entries, label to pixel783\n",
      "dtypes: int64(785)\n",
      "memory usage: 251.5 MB\n"
     ]
    }
   ],
   "source": [
    "train_data.info()"
   ]
  },
  {
   "cell_type": "code",
   "execution_count": 4,
   "metadata": {
    "collapsed": false
   },
   "outputs": [
    {
     "name": "stdout",
     "output_type": "stream",
     "text": [
      "<class 'pandas.core.frame.DataFrame'>\n",
      "RangeIndex: 28000 entries, 0 to 27999\n",
      "Columns: 784 entries, pixel0 to pixel783\n",
      "dtypes: int64(784)\n",
      "memory usage: 167.5 MB\n"
     ]
    }
   ],
   "source": [
    "test_data.info()"
   ]
  },
  {
   "cell_type": "code",
   "execution_count": 5,
   "metadata": {
    "collapsed": false
   },
   "outputs": [
    {
     "data": {
      "text/html": [
       "<div>\n",
       "<style scoped>\n",
       "    .dataframe tbody tr th:only-of-type {\n",
       "        vertical-align: middle;\n",
       "    }\n",
       "\n",
       "    .dataframe tbody tr th {\n",
       "        vertical-align: top;\n",
       "    }\n",
       "\n",
       "    .dataframe thead th {\n",
       "        text-align: right;\n",
       "    }\n",
       "</style>\n",
       "<table border=\"1\" class=\"dataframe\">\n",
       "  <thead>\n",
       "    <tr style=\"text-align: right;\">\n",
       "      <th></th>\n",
       "      <th>label</th>\n",
       "      <th>pixel0</th>\n",
       "      <th>pixel1</th>\n",
       "      <th>pixel2</th>\n",
       "      <th>pixel3</th>\n",
       "      <th>pixel4</th>\n",
       "      <th>pixel5</th>\n",
       "      <th>pixel6</th>\n",
       "      <th>pixel7</th>\n",
       "      <th>pixel8</th>\n",
       "      <th>...</th>\n",
       "      <th>pixel774</th>\n",
       "      <th>pixel775</th>\n",
       "      <th>pixel776</th>\n",
       "      <th>pixel777</th>\n",
       "      <th>pixel778</th>\n",
       "      <th>pixel779</th>\n",
       "      <th>pixel780</th>\n",
       "      <th>pixel781</th>\n",
       "      <th>pixel782</th>\n",
       "      <th>pixel783</th>\n",
       "    </tr>\n",
       "  </thead>\n",
       "  <tbody>\n",
       "    <tr>\n",
       "      <th>0</th>\n",
       "      <td>1</td>\n",
       "      <td>0</td>\n",
       "      <td>0</td>\n",
       "      <td>0</td>\n",
       "      <td>0</td>\n",
       "      <td>0</td>\n",
       "      <td>0</td>\n",
       "      <td>0</td>\n",
       "      <td>0</td>\n",
       "      <td>0</td>\n",
       "      <td>...</td>\n",
       "      <td>0</td>\n",
       "      <td>0</td>\n",
       "      <td>0</td>\n",
       "      <td>0</td>\n",
       "      <td>0</td>\n",
       "      <td>0</td>\n",
       "      <td>0</td>\n",
       "      <td>0</td>\n",
       "      <td>0</td>\n",
       "      <td>0</td>\n",
       "    </tr>\n",
       "    <tr>\n",
       "      <th>1</th>\n",
       "      <td>0</td>\n",
       "      <td>0</td>\n",
       "      <td>0</td>\n",
       "      <td>0</td>\n",
       "      <td>0</td>\n",
       "      <td>0</td>\n",
       "      <td>0</td>\n",
       "      <td>0</td>\n",
       "      <td>0</td>\n",
       "      <td>0</td>\n",
       "      <td>...</td>\n",
       "      <td>0</td>\n",
       "      <td>0</td>\n",
       "      <td>0</td>\n",
       "      <td>0</td>\n",
       "      <td>0</td>\n",
       "      <td>0</td>\n",
       "      <td>0</td>\n",
       "      <td>0</td>\n",
       "      <td>0</td>\n",
       "      <td>0</td>\n",
       "    </tr>\n",
       "    <tr>\n",
       "      <th>2</th>\n",
       "      <td>1</td>\n",
       "      <td>0</td>\n",
       "      <td>0</td>\n",
       "      <td>0</td>\n",
       "      <td>0</td>\n",
       "      <td>0</td>\n",
       "      <td>0</td>\n",
       "      <td>0</td>\n",
       "      <td>0</td>\n",
       "      <td>0</td>\n",
       "      <td>...</td>\n",
       "      <td>0</td>\n",
       "      <td>0</td>\n",
       "      <td>0</td>\n",
       "      <td>0</td>\n",
       "      <td>0</td>\n",
       "      <td>0</td>\n",
       "      <td>0</td>\n",
       "      <td>0</td>\n",
       "      <td>0</td>\n",
       "      <td>0</td>\n",
       "    </tr>\n",
       "    <tr>\n",
       "      <th>3</th>\n",
       "      <td>4</td>\n",
       "      <td>0</td>\n",
       "      <td>0</td>\n",
       "      <td>0</td>\n",
       "      <td>0</td>\n",
       "      <td>0</td>\n",
       "      <td>0</td>\n",
       "      <td>0</td>\n",
       "      <td>0</td>\n",
       "      <td>0</td>\n",
       "      <td>...</td>\n",
       "      <td>0</td>\n",
       "      <td>0</td>\n",
       "      <td>0</td>\n",
       "      <td>0</td>\n",
       "      <td>0</td>\n",
       "      <td>0</td>\n",
       "      <td>0</td>\n",
       "      <td>0</td>\n",
       "      <td>0</td>\n",
       "      <td>0</td>\n",
       "    </tr>\n",
       "    <tr>\n",
       "      <th>4</th>\n",
       "      <td>0</td>\n",
       "      <td>0</td>\n",
       "      <td>0</td>\n",
       "      <td>0</td>\n",
       "      <td>0</td>\n",
       "      <td>0</td>\n",
       "      <td>0</td>\n",
       "      <td>0</td>\n",
       "      <td>0</td>\n",
       "      <td>0</td>\n",
       "      <td>...</td>\n",
       "      <td>0</td>\n",
       "      <td>0</td>\n",
       "      <td>0</td>\n",
       "      <td>0</td>\n",
       "      <td>0</td>\n",
       "      <td>0</td>\n",
       "      <td>0</td>\n",
       "      <td>0</td>\n",
       "      <td>0</td>\n",
       "      <td>0</td>\n",
       "    </tr>\n",
       "  </tbody>\n",
       "</table>\n",
       "<p>5 rows × 785 columns</p>\n",
       "</div>"
      ],
      "text/plain": [
       "   label  pixel0  pixel1  pixel2  pixel3  pixel4  pixel5  pixel6  pixel7  \\\n",
       "0      1       0       0       0       0       0       0       0       0   \n",
       "1      0       0       0       0       0       0       0       0       0   \n",
       "2      1       0       0       0       0       0       0       0       0   \n",
       "3      4       0       0       0       0       0       0       0       0   \n",
       "4      0       0       0       0       0       0       0       0       0   \n",
       "\n",
       "   pixel8    ...     pixel774  pixel775  pixel776  pixel777  pixel778  \\\n",
       "0       0    ...            0         0         0         0         0   \n",
       "1       0    ...            0         0         0         0         0   \n",
       "2       0    ...            0         0         0         0         0   \n",
       "3       0    ...            0         0         0         0         0   \n",
       "4       0    ...            0         0         0         0         0   \n",
       "\n",
       "   pixel779  pixel780  pixel781  pixel782  pixel783  \n",
       "0         0         0         0         0         0  \n",
       "1         0         0         0         0         0  \n",
       "2         0         0         0         0         0  \n",
       "3         0         0         0         0         0  \n",
       "4         0         0         0         0         0  \n",
       "\n",
       "[5 rows x 785 columns]"
      ]
     },
     "execution_count": 5,
     "metadata": {},
     "output_type": "execute_result"
    }
   ],
   "source": [
    "train_data.head()"
   ]
  },
  {
   "cell_type": "code",
   "execution_count": 6,
   "metadata": {
    "collapsed": false
   },
   "outputs": [],
   "source": [
    "y_train = train_data['label']"
   ]
  },
  {
   "cell_type": "code",
   "execution_count": 7,
   "metadata": {
    "collapsed": false
   },
   "outputs": [],
   "source": [
    "train_data.drop(columns=['label'], inplace=True, axis=1)"
   ]
  },
  {
   "cell_type": "code",
   "execution_count": 8,
   "metadata": {
    "collapsed": false
   },
   "outputs": [],
   "source": [
    "x_train = train_data.values.reshape(-1, 28, 28, 1)\n",
    "x_test = test_data.values.reshape(-1, 28, 28, 1)"
   ]
  },
  {
   "cell_type": "code",
   "execution_count": 9,
   "metadata": {
    "collapsed": true
   },
   "outputs": [],
   "source": [
    "del train_data\n",
    "del test_data"
   ]
  },
  {
   "cell_type": "code",
   "execution_count": 10,
   "metadata": {
    "collapsed": false
   },
   "outputs": [
    {
     "data": {
      "image/png": "[encoded data removed]",
      "text/plain": [
       "<Figure size 600x400 with 1 Axes>"
      ]
     },
     "metadata": {},
     "output_type": "display_data"
    },
    {
     "data": {
      "image/png": "[encoded data removed]",
      "text/plain": [
       "<Figure size 600x400 with 1 Axes>"
      ]
     },
     "metadata": {},
     "output_type": "display_data"
    }
   ],
   "source": [
    "for i in range(2):\n",
    "    j = randrange(0, 42000)\n",
    "    plt.imshow(x_train[j][:,:,0])\n",
    "    plt.xlabel(y_train[j])\n",
    "    plt.xticks([], [])\n",
    "    plt.yticks([], [])\n",
    "    plt.show()"
   ]
  },
  {
   "cell_type": "code",
   "execution_count": 11,
   "metadata": {
    "collapsed": false
   },
   "outputs": [],
   "source": [
    "x = tf.placeholder(tf.float32, [None, 28, 28, 1])\n",
    "\n",
    "y= tf.placeholder(tf.float32, [None, 10])\n",
    "\n",
    "\n",
    "initializer = tf.contrib.layers.xavier_initializer()\n",
    "\n",
    "weights = {'w_conv1': tf.Variable(initializer([3, 3, 1, 8])),\n",
    "           'w_conv2': tf.Variable(initializer([5, 5, 8, 16])),\n",
    "           'w_conv3': tf.Variable(initializer([3, 3, 16, 16])),\n",
    "           'w_fc1': tf.Variable(initializer([7*7*16, 128])),\n",
    "           'out': tf.Variable(initializer([128, 10]))}\n",
    "\n",
    "biases = {'b_conv1': tf.Variable(tf.random_normal([8])),\n",
    "          'b_conv2': tf.Variable(tf.random_normal([16])),\n",
    "          'b_conv3': tf.Variable(tf.random_normal([16])),\n",
    "          'b_fc1': tf.Variable(tf.random_normal([128])),\n",
    "          'out': tf.Variable(tf.random_normal([10]))}"
   ]
  },
  {
   "cell_type": "code",
   "execution_count": 12,
   "metadata": {
    "collapsed": false
   },
   "outputs": [],
   "source": [
    "def CNN(x):\n",
    "    \n",
    "    inputs = tf.cast(x, dtype=tf.float32)\n",
    "    input_layer = tf.reshape(inputs, [-1, 28, 28, 1])\n",
    "    \n",
    "    \n",
    "    conv1 = tf.nn.relu(tf.add(tf.nn.conv2d(input_layer, weights['w_conv1'], strides=[1, 1, 1, 1], padding='SAME',\n",
    "                                name='conv1'), biases['b_conv1']))\n",
    "    pool1 = tf.nn.max_pool(conv1, ksize=[1, 2, 2, 1], strides=[1, 2, 2, 1], padding='SAME')\n",
    "                       \n",
    "    \n",
    "    conv2 = tf.nn.relu(tf.add(tf.nn.conv2d(pool1, weights['w_conv2'], strides=[1, 1, 1, 1], padding='SAME',\n",
    "                                          name='conv2'), biases['b_conv2']))\n",
    "    \n",
    "    conv3 = tf.nn.relu(tf.add(tf.nn.conv2d(conv2, weights['w_conv3'], strides=[1, 1, 1, 1], padding='SAME',\n",
    "                                          name='conv2'), biases['b_conv3']))\n",
    "    \n",
    "    pool2 = tf.nn.max_pool(conv3, ksize=[1, 2, 2, 1], strides=[1, 2, 2, 1], padding='SAME')\n",
    "    \n",
    "    dropout = tf.nn.dropout(pool2, keep_prob=0.8)\n",
    "                       \n",
    "                       \n",
    "    flatten = tf.reshape(dropout, [-1, 7*7*16])\n",
    "                       \n",
    "                       \n",
    "    fully_connected = tf.add(tf.matmul(flatten, weights['w_fc1']), biases['b_fc1'])\n",
    "                       \n",
    "    dropout = tf.nn.dropout(fully_connected, keep_prob=0.8)\n",
    "                       \n",
    "    out = tf.add(tf.matmul(dropout, weights['out']), biases['out'])\n",
    "                       \n",
    "    return out\n",
    "    "
   ]
  },
  {
   "cell_type": "code",
   "execution_count": 13,
   "metadata": {
    "collapsed": true
   },
   "outputs": [],
   "source": [
    "def one_hot(i):\n",
    "    a = [0, 0, 0, 0, 0, 0, 0, 0, 0, 0]\n",
    "    a[i] = 1\n",
    "    return a"
   ]
  },
  {
   "cell_type": "code",
   "execution_count": 14,
   "metadata": {
    "collapsed": true
   },
   "outputs": [],
   "source": [
    "def get_batch(batch_size, mode):\n",
    "    # mode 0 for getting training batches\n",
    "    # mode 1 for getting validation batches\n",
    "    batch_x = []\n",
    "    batch_y = []\n",
    "    for i in range(batch_size):\n",
    "        if mode == 0:\n",
    "            j = randrange(0, 40000)\n",
    "        elif mode == 1:\n",
    "            j = randrange(40000, 42000)\n",
    "        batch_x.append(x_train[j])\n",
    "        batch_y.append(one_hot(y_train[j]))\n",
    "    return batch_x, batch_y"
   ]
  },
  {
   "cell_type": "code",
   "execution_count": 16,
   "metadata": {
    "collapsed": false
   },
   "outputs": [],
   "source": [
    "def train_neural_network(x):\n",
    "    \n",
    "    prediction = CNN(x)\n",
    "    cost = tf.reduce_mean(tf.nn.softmax_cross_entropy_with_logits_v2(logits=prediction, labels=y))\n",
    "    y_pred = tf.nn.softmax(prediction)\n",
    "    \n",
    "    optimizer = tf.train.AdamOptimizer(1e-4).minimize(cost)\n",
    "    \n",
    "    saver = tf.train.Saver()\n",
    "    \n",
    "    num_epochs = 5\n",
    "    best_val = 0\n",
    "\n",
    "    \n",
    "    with tf.Session() as sess:\n",
    "        \n",
    "        correct = tf.equal(tf.argmax(y_pred, 1), tf.argmax(y, 1))  # 1 represents the axis\n",
    "        accuracy = tf.reduce_mean(tf.cast(correct, 'float32'))\n",
    "        best_val = 0\n",
    "        \n",
    "        if os.path.exists('./model.ckpt.index'):\n",
    "            print('Restoring Model')\n",
    "            saver.restore(sess, './model.ckpt')\n",
    "            print('Model Restored')\n",
    "            val_x, val_y = get_batch(100, 1)\n",
    "            best_val = accuracy.eval({x: val_x, y: val_y})\n",
    "            print('Saved model\\'s validation accuracy is:', best_val)\n",
    "            \n",
    "    \n",
    "        else:\n",
    "            sess.run(tf.global_variables_initializer())\n",
    "        \n",
    "        \n",
    "        for epochs in range(num_epochs):\n",
    "            acc = 0\n",
    "            epoch_loss = 0\n",
    "            \n",
    "            \n",
    "            for i in range((x_train.shape[0]-2000)//100):\n",
    "                batch_x, batch_y = get_batch(100, 0)\n",
    "                feed_dict = {x : batch_x, y: batch_y}\n",
    "                _ , c = sess.run([optimizer, cost], feed_dict)\n",
    "                epoch_loss += c\n",
    "                clear_output(wait=True)\n",
    "                acc = accuracy.eval(feed_dict=feed_dict)\n",
    "                print('Epoch:', epochs+1, '|', 'Loss:', colored( \"%.4f\" % c, 'red'), '|', 'Train Accuracy', \n",
    "                      colored(\"%.4f\" % acc, 'green'), '|', i, 'out of', (x_train.shape[0]-2000)//100, \n",
    "                      ' iterations done')\n",
    "            \n",
    "            \n",
    "            \n",
    "            for i in range(2000//100):\n",
    "                val_x, val_y = get_batch(100, 1)\n",
    "                acc += accuracy.eval({x: val_x, y: val_y})\n",
    "            val_acc = acc / (2000//100)\n",
    "            \n",
    "            \n",
    "            if val_acc>best_val:\n",
    "                save_path = saver.save(sess, './model.ckpt')\n",
    "                print('Saved model\\'s validation accuracy is:', best_val)\n",
    "                best_val = val_acc\n",
    "                \n",
    "            print('Epoch', epochs, 'completed out of', num_epochs, '|', 'Epoch Loss:', colored(\"%.4f\" % epoch_loss, 'red')\n",
    "                  , '|', 'Validation Accuracy', colored(\"%.4f\" % val_acc, 'green'))\n"
   ]
  },
  {
   "cell_type": "code",
   "execution_count": 17,
   "metadata": {
    "collapsed": false,
    "scrolled": true
   },
   "outputs": [
    {
     "name": "stdout",
     "output_type": "stream",
     "text": [
      "Epoch: 5 | Loss: \u001b[31m0.1045\u001b[0m | Train Accuracy \u001b[32m0.9700\u001b[0m | 399 out of 400  iterations done\n",
      "Saved model's validation accuracy is: 0.9975000381469726\n",
      "Epoch 4 completed out of 5 | Epoch Loss: \u001b[31m50.9473\u001b[0m | Validation Accuracy \u001b[32m1.0075\u001b[0m\n"
     ]
    }
   ],
   "source": [
    "train_neural_network(x)"
   ]
  },
  {
   "cell_type": "code",
   "execution_count": 18,
   "metadata": {
    "collapsed": false,
    "scrolled": true
   },
   "outputs": [
    {
     "data": {
      "image/png": "[encoded data removed]",
      "text/plain": [
       "<Figure size 600x400 with 1 Axes>"
      ]
     },
     "metadata": {},
     "output_type": "display_data"
    },
    {
     "data": {
      "image/png": "[encoded data removed]",
      "text/plain": [
       "<Figure size 600x400 with 1 Axes>"
      ]
     },
     "metadata": {},
     "output_type": "display_data"
    }
   ],
   "source": [
    "for i in range(2):\n",
    "    j = randrange(0, x_test.shape[0])\n",
    "    plt.imshow(x_test[j][:,:,0])\n",
    "    plt.xticks([], [])\n",
    "    plt.yticks([], [])\n",
    "    plt.show()"
   ]
  },
  {
   "cell_type": "code",
   "execution_count": 19,
   "metadata": {
    "collapsed": false
   },
   "outputs": [
    {
     "data": {
      "image/png": "[encoded data removed]",
      "text/plain": [
       "<Figure size 600x400 with 1 Axes>"
      ]
     },
     "metadata": {},
     "output_type": "display_data"
    },
    {
     "data": {
      "image/png": "[encoded data removed]",
      "text/plain": [
       "<Figure size 600x400 with 1 Axes>"
      ]
     },
     "metadata": {},
     "output_type": "display_data"
    },
    {
     "data": {
      "image/png": "[encoded data removed]",
      "text/plain": [
       "<Figure size 600x400 with 1 Axes>"
      ]
     },
     "metadata": {},
     "output_type": "display_data"
    },
    {
     "data": {
      "image/png": "[encoded data removed]",
      "text/plain": [
       "<Figure size 600x400 with 1 Axes>"
      ]
     },
     "metadata": {},
     "output_type": "display_data"
    },
    {
     "data": {
      "image/png": "[encoded data removed]",
      "text/plain": [
       "<Figure size 600x400 with 1 Axes>"
      ]
     },
     "metadata": {},
     "output_type": "display_data"
    },
    {
     "data": {
      "image/png": "[encoded data removed]",
      "text/plain": [
       "<Figure size 600x400 with 1 Axes>"
      ]
     },
     "metadata": {},
     "output_type": "display_data"
    },
    {
     "data": {
      "image/png": "[encoded data removed]",
      "text/plain": [
       "<Figure size 600x400 with 1 Axes>"
      ]
     },
     "metadata": {},
     "output_type": "display_data"
    },
    {
     "data": {
      "image/png": "[encoded data removed]",
      "text/plain": [
       "<Figure size 600x400 with 1 Axes>"
      ]
     },
     "metadata": {},
     "output_type": "display_data"
    },
    {
     "data": {
      "image/png": "[encoded data removed]",
      "text/plain": [
       "<Figure size 600x400 with 1 Axes>"
      ]
     },
     "metadata": {},
     "output_type": "display_data"
    },
    {
     "data": {
      "image/png": "[encoded data removed]",
      "text/plain": [
       "<Figure size 600x400 with 1 Axes>"
      ]
     },
     "metadata": {},
     "output_type": "display_data"
    }
   ],
   "source": [
    "saver = tf.train.Saver()\n",
    "sol = { 'ImageId': [], 'Label': []}\n",
    "with tf.Session() as sess:\n",
    "    saver.restore(sess, './model.ckpt')\n",
    "    prediction = CNN(x)\n",
    "    y_pred_cls = tf.argmax(tf.nn.softmax(prediction), 1)\n",
    "    feed_dict = {x: x_test}\n",
    "    res = y_pred_cls.eval(feed_dict)\n",
    "    \n",
    "    \n",
    "    for j in range(1, x_test.shape[0]+1):\n",
    "        sol['ImageId'].append(j)\n",
    "        sol['Label'].append(res[j-1])\n",
    "        #print(res)\n",
    "\n",
    "    for i in range(10):\n",
    "        j = randrange(0, x_test.shape[0])\n",
    "        plt.imshow(x_test[j][:, :, 0])\n",
    "        plt.xticks([], [])\n",
    "        plt.yticks([], [])\n",
    "        plt.xlabel(y_pred_cls[j].eval(feed_dict={x: x_test}))\n",
    "        plt.show()"
   ]
  },
  {
   "cell_type": "code",
   "execution_count": 20,
   "metadata": {
    "collapsed": false
   },
   "outputs": [
    {
     "data": {
      "text/plain": [
       "(28000, 2)"
      ]
     },
     "execution_count": 20,
     "metadata": {},
     "output_type": "execute_result"
    }
   ],
   "source": [
    "solv = pd.DataFrame(sol)\n",
    "solv.shape"
   ]
  },
  {
   "cell_type": "code",
   "execution_count": 21,
   "metadata": {
    "collapsed": false
   },
   "outputs": [],
   "source": [
    "solv.to_csv('./Results.csv', index=False)"
   ]
  }
 ],
 "metadata": {
  "kernelspec": {
   "display_name": "Python 3",
   "language": "python",
   "name": "python3"
  },
  "language_info": {
   "codemirror_mode": {
    "name": "ipython",
    "version": 3
   },
   "file_extension": ".py",
   "mimetype": "text/x-python",
   "name": "python",
   "nbconvert_exporter": "python",
   "pygments_lexer": "ipython3",
   "version": "3.5.1"
  }
 },
 "nbformat": 4,
 "nbformat_minor": 0
}
